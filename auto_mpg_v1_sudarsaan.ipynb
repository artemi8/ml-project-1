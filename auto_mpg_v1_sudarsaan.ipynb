{
 "cells": [
  {
   "cell_type": "code",
   "execution_count": 45,
   "id": "aaf00c31-01b6-46d7-9d24-07445bd6f0e6",
   "metadata": {},
   "outputs": [],
   "source": [
    "import pandas as pd\n",
    "from matplotlib import pyplot as plt\n",
    "import seaborn as sns\n",
    "from sklearn.preprocessing import OrdinalEncoder, StandardScaler\n",
    "import numpy as np\n",
    "# from ydata_profiling import ProfileReport"
   ]
  },
  {
   "cell_type": "code",
   "execution_count": 46,
   "id": "5c957106-dfff-444f-885a-ed118e396707",
   "metadata": {},
   "outputs": [],
   "source": [
    "columns = ['mpg', 'cylinders', 'displacement', 'horsepower', 'weight', \\\n",
    "         'acceleration', 'model_year', 'origin', 'car_name']\n",
    "\n",
    "auto_mpg_df = pd.read_csv('auto_mpg/auto-mpg.data', delim_whitespace=True, names=columns)\n",
    "auto_mpg_df.drop(columns=['car_name'], inplace=True)\n",
    "\n",
    "#Converting the column from object to float, coercing the error due to the presence of '?' in the column\n",
    "auto_mpg_df['horsepower'] = pd.to_numeric(auto_mpg_df['horsepower'], errors='coerce')\n",
    "\n",
    "# Using forward fill to replace NaN values\n",
    "auto_mpg_df['horsepower'] = auto_mpg_df[\"horsepower\"].fillna(method='ffill')\n",
    "\n",
    "\n",
    "scaler = StandardScaler()\n",
    "auto_mpg_df[auto_mpg_df.columns] = scaler.fit_transform(auto_mpg_df[auto_mpg_df.columns])"
   ]
  },
  {
   "cell_type": "code",
   "execution_count": 47,
   "id": "04af0797-2ab0-4e86-8f57-c72149e9822b",
   "metadata": {
    "tags": []
   },
   "outputs": [
    {
     "data": {
      "text/plain": [
       "mpg             0\n",
       "cylinders       0\n",
       "displacement    0\n",
       "horsepower      0\n",
       "weight          0\n",
       "acceleration    0\n",
       "model_year      0\n",
       "origin          0\n",
       "dtype: int64"
      ]
     },
     "execution_count": 47,
     "metadata": {},
     "output_type": "execute_result"
    }
   ],
   "source": [
    "# Checking NaN values\n",
    "auto_mpg_df.isnull().sum()"
   ]
  },
  {
   "cell_type": "code",
   "execution_count": 101,
   "id": "731ec58c-3189-4b56-a22d-0b2f8ecfe547",
   "metadata": {},
   "outputs": [],
   "source": []
  },
  {
   "cell_type": "code",
   "execution_count": 102,
   "id": "e0d9e082-2628-4463-b2a9-ec4a87adf573",
   "metadata": {
    "tags": []
   },
   "outputs": [
    {
     "data": {
      "text/html": [
       "<div>\n",
       "<style scoped>\n",
       "    .dataframe tbody tr th:only-of-type {\n",
       "        vertical-align: middle;\n",
       "    }\n",
       "\n",
       "    .dataframe tbody tr th {\n",
       "        vertical-align: top;\n",
       "    }\n",
       "\n",
       "    .dataframe thead th {\n",
       "        text-align: right;\n",
       "    }\n",
       "</style>\n",
       "<table border=\"1\" class=\"dataframe\">\n",
       "  <thead>\n",
       "    <tr style=\"text-align: right;\">\n",
       "      <th></th>\n",
       "      <th>mpg</th>\n",
       "      <th>cylinders</th>\n",
       "      <th>displacement</th>\n",
       "      <th>horsepower</th>\n",
       "      <th>weight</th>\n",
       "      <th>acceleration</th>\n",
       "      <th>model_year</th>\n",
       "      <th>origin</th>\n",
       "    </tr>\n",
       "  </thead>\n",
       "  <tbody>\n",
       "    <tr>\n",
       "      <th>0</th>\n",
       "      <td>-0.706439</td>\n",
       "      <td>1.498191</td>\n",
       "      <td>1.090604</td>\n",
       "      <td>0.675133</td>\n",
       "      <td>0.630870</td>\n",
       "      <td>-1.295498</td>\n",
       "      <td>-1.627426</td>\n",
       "      <td>-0.715145</td>\n",
       "    </tr>\n",
       "    <tr>\n",
       "      <th>1</th>\n",
       "      <td>-1.090751</td>\n",
       "      <td>1.498191</td>\n",
       "      <td>1.503514</td>\n",
       "      <td>1.590245</td>\n",
       "      <td>0.854333</td>\n",
       "      <td>-1.477038</td>\n",
       "      <td>-1.627426</td>\n",
       "      <td>-0.715145</td>\n",
       "    </tr>\n",
       "    <tr>\n",
       "      <th>2</th>\n",
       "      <td>-0.706439</td>\n",
       "      <td>1.498191</td>\n",
       "      <td>1.196232</td>\n",
       "      <td>1.198054</td>\n",
       "      <td>0.550470</td>\n",
       "      <td>-1.658577</td>\n",
       "      <td>-1.627426</td>\n",
       "      <td>-0.715145</td>\n",
       "    </tr>\n",
       "    <tr>\n",
       "      <th>3</th>\n",
       "      <td>-0.962647</td>\n",
       "      <td>1.498191</td>\n",
       "      <td>1.061796</td>\n",
       "      <td>1.198054</td>\n",
       "      <td>0.546923</td>\n",
       "      <td>-1.295498</td>\n",
       "      <td>-1.627426</td>\n",
       "      <td>-0.715145</td>\n",
       "    </tr>\n",
       "    <tr>\n",
       "      <th>4</th>\n",
       "      <td>-0.834543</td>\n",
       "      <td>1.498191</td>\n",
       "      <td>1.042591</td>\n",
       "      <td>0.936593</td>\n",
       "      <td>0.565841</td>\n",
       "      <td>-1.840117</td>\n",
       "      <td>-1.627426</td>\n",
       "      <td>-0.715145</td>\n",
       "    </tr>\n",
       "  </tbody>\n",
       "</table>\n",
       "</div>"
      ],
      "text/plain": [
       "        mpg  cylinders  displacement  horsepower    weight  acceleration  \\\n",
       "0 -0.706439   1.498191      1.090604    0.675133  0.630870     -1.295498   \n",
       "1 -1.090751   1.498191      1.503514    1.590245  0.854333     -1.477038   \n",
       "2 -0.706439   1.498191      1.196232    1.198054  0.550470     -1.658577   \n",
       "3 -0.962647   1.498191      1.061796    1.198054  0.546923     -1.295498   \n",
       "4 -0.834543   1.498191      1.042591    0.936593  0.565841     -1.840117   \n",
       "\n",
       "   model_year    origin  \n",
       "0   -1.627426 -0.715145  \n",
       "1   -1.627426 -0.715145  \n",
       "2   -1.627426 -0.715145  \n",
       "3   -1.627426 -0.715145  \n",
       "4   -1.627426 -0.715145  "
      ]
     },
     "execution_count": 102,
     "metadata": {},
     "output_type": "execute_result"
    }
   ],
   "source": [
    "auto_mpg_df.head()"
   ]
  },
  {
   "cell_type": "code",
   "execution_count": 103,
   "id": "3863657d-2e13-46c5-a76a-ce6e1fa75a3c",
   "metadata": {},
   "outputs": [
    {
     "data": {
      "text/html": [
       "<div>\n",
       "<style scoped>\n",
       "    .dataframe tbody tr th:only-of-type {\n",
       "        vertical-align: middle;\n",
       "    }\n",
       "\n",
       "    .dataframe tbody tr th {\n",
       "        vertical-align: top;\n",
       "    }\n",
       "\n",
       "    .dataframe thead th {\n",
       "        text-align: right;\n",
       "    }\n",
       "</style>\n",
       "<table border=\"1\" class=\"dataframe\">\n",
       "  <thead>\n",
       "    <tr style=\"text-align: right;\">\n",
       "      <th></th>\n",
       "      <th>mpg</th>\n",
       "      <th>cylinders</th>\n",
       "      <th>displacement</th>\n",
       "      <th>horsepower</th>\n",
       "      <th>weight</th>\n",
       "      <th>acceleration</th>\n",
       "      <th>model_year</th>\n",
       "      <th>origin</th>\n",
       "    </tr>\n",
       "  </thead>\n",
       "  <tbody>\n",
       "    <tr>\n",
       "      <th>count</th>\n",
       "      <td>3.980000e+02</td>\n",
       "      <td>3.980000e+02</td>\n",
       "      <td>3.980000e+02</td>\n",
       "      <td>3.980000e+02</td>\n",
       "      <td>3.980000e+02</td>\n",
       "      <td>3.980000e+02</td>\n",
       "      <td>3.980000e+02</td>\n",
       "      <td>3.980000e+02</td>\n",
       "    </tr>\n",
       "    <tr>\n",
       "      <th>mean</th>\n",
       "      <td>7.141133e-17</td>\n",
       "      <td>-3.570567e-17</td>\n",
       "      <td>-1.785283e-17</td>\n",
       "      <td>-1.071170e-16</td>\n",
       "      <td>-1.606755e-16</td>\n",
       "      <td>-2.677925e-16</td>\n",
       "      <td>-1.642461e-15</td>\n",
       "      <td>-5.355850e-17</td>\n",
       "    </tr>\n",
       "    <tr>\n",
       "      <th>std</th>\n",
       "      <td>1.001259e+00</td>\n",
       "      <td>1.001259e+00</td>\n",
       "      <td>1.001259e+00</td>\n",
       "      <td>1.001259e+00</td>\n",
       "      <td>1.001259e+00</td>\n",
       "      <td>1.001259e+00</td>\n",
       "      <td>1.001259e+00</td>\n",
       "      <td>1.001259e+00</td>\n",
       "    </tr>\n",
       "    <tr>\n",
       "      <th>min</th>\n",
       "      <td>-1.859374e+00</td>\n",
       "      <td>-1.444949e+00</td>\n",
       "      <td>-1.204411e+00</td>\n",
       "      <td>-1.521135e+00</td>\n",
       "      <td>-1.604943e+00</td>\n",
       "      <td>-2.747814e+00</td>\n",
       "      <td>-1.627426e+00</td>\n",
       "      <td>-7.151448e-01</td>\n",
       "    </tr>\n",
       "    <tr>\n",
       "      <th>25%</th>\n",
       "      <td>-7.704907e-01</td>\n",
       "      <td>-8.563206e-01</td>\n",
       "      <td>-8.563178e-01</td>\n",
       "      <td>-7.628996e-01</td>\n",
       "      <td>-8.828266e-01</td>\n",
       "      <td>-6.328794e-01</td>\n",
       "      <td>-8.150739e-01</td>\n",
       "      <td>-7.151448e-01</td>\n",
       "    </tr>\n",
       "    <tr>\n",
       "      <th>50%</th>\n",
       "      <td>-6.591883e-02</td>\n",
       "      <td>-8.563206e-01</td>\n",
       "      <td>-4.314040e-01</td>\n",
       "      <td>-3.053438e-01</td>\n",
       "      <td>-1.973624e-01</td>\n",
       "      <td>-2.472221e-02</td>\n",
       "      <td>-2.721449e-03</td>\n",
       "      <td>-7.151448e-01</td>\n",
       "    </tr>\n",
       "    <tr>\n",
       "      <th>75%</th>\n",
       "      <td>7.027050e-01</td>\n",
       "      <td>1.498191e+00</td>\n",
       "      <td>6.584879e-01</td>\n",
       "      <td>5.444028e-01</td>\n",
       "      <td>7.538337e-01</td>\n",
       "      <td>5.834349e-01</td>\n",
       "      <td>8.096310e-01</td>\n",
       "      <td>5.332220e-01</td>\n",
       "    </tr>\n",
       "    <tr>\n",
       "      <th>max</th>\n",
       "      <td>2.957335e+00</td>\n",
       "      <td>1.498191e+00</td>\n",
       "      <td>2.511784e+00</td>\n",
       "      <td>3.289738e+00</td>\n",
       "      <td>2.565185e+00</td>\n",
       "      <td>3.351912e+00</td>\n",
       "      <td>1.621983e+00</td>\n",
       "      <td>1.781589e+00</td>\n",
       "    </tr>\n",
       "  </tbody>\n",
       "</table>\n",
       "</div>"
      ],
      "text/plain": [
       "                mpg     cylinders  displacement    horsepower        weight  \\\n",
       "count  3.980000e+02  3.980000e+02  3.980000e+02  3.980000e+02  3.980000e+02   \n",
       "mean   7.141133e-17 -3.570567e-17 -1.785283e-17 -1.071170e-16 -1.606755e-16   \n",
       "std    1.001259e+00  1.001259e+00  1.001259e+00  1.001259e+00  1.001259e+00   \n",
       "min   -1.859374e+00 -1.444949e+00 -1.204411e+00 -1.521135e+00 -1.604943e+00   \n",
       "25%   -7.704907e-01 -8.563206e-01 -8.563178e-01 -7.628996e-01 -8.828266e-01   \n",
       "50%   -6.591883e-02 -8.563206e-01 -4.314040e-01 -3.053438e-01 -1.973624e-01   \n",
       "75%    7.027050e-01  1.498191e+00  6.584879e-01  5.444028e-01  7.538337e-01   \n",
       "max    2.957335e+00  1.498191e+00  2.511784e+00  3.289738e+00  2.565185e+00   \n",
       "\n",
       "       acceleration    model_year        origin  \n",
       "count  3.980000e+02  3.980000e+02  3.980000e+02  \n",
       "mean  -2.677925e-16 -1.642461e-15 -5.355850e-17  \n",
       "std    1.001259e+00  1.001259e+00  1.001259e+00  \n",
       "min   -2.747814e+00 -1.627426e+00 -7.151448e-01  \n",
       "25%   -6.328794e-01 -8.150739e-01 -7.151448e-01  \n",
       "50%   -2.472221e-02 -2.721449e-03 -7.151448e-01  \n",
       "75%    5.834349e-01  8.096310e-01  5.332220e-01  \n",
       "max    3.351912e+00  1.621983e+00  1.781589e+00  "
      ]
     },
     "execution_count": 103,
     "metadata": {},
     "output_type": "execute_result"
    }
   ],
   "source": [
    "auto_mpg_df.describe()"
   ]
  },
  {
   "cell_type": "markdown",
   "id": "6040ee03-9335-428d-8c06-d5d668dd0ad3",
   "metadata": {},
   "source": [
    "## Quantile Analysis"
   ]
  },
  {
   "cell_type": "code",
   "execution_count": 48,
   "id": "e91da048-e38f-42e3-ade5-0dcd3058f6f7",
   "metadata": {},
   "outputs": [
    {
     "data": {
      "image/png": "[encoded data removed]",
      "text/plain": [
       "<Figure size 1080x1440 with 32 Axes>"
      ]
     },
     "metadata": {
      "needs_background": "light"
     },
     "output_type": "display_data"
    }
   ],
   "source": [
    "auto_mpg_df.plot(kind='box', subplots=True, layout=(8,4), sharex=False, sharey=False, fontsize=12, figsize=(15,20))\n",
    "plt.show()"
   ]
  },
  {
   "cell_type": "code",
   "execution_count": 7,
   "id": "af0bc110-1173-44cf-be30-6e028c61dac8",
   "metadata": {},
   "outputs": [
    {
     "data": {
      "image/png": "[encoded data removed]",
      "text/plain": [
       "<Figure size 1080x1440 with 32 Axes>"
      ]
     },
     "metadata": {
      "needs_background": "light"
     },
     "output_type": "display_data"
    }
   ],
   "source": [
    "auto_mpg_df.plot(kind='box', subplots=True, layout=(8,4), sharex=False, sharey=False, fontsize=12, figsize=(15,20))\n",
    "plt.show()"
   ]
  },
  {
   "cell_type": "code",
   "execution_count": 160,
   "id": "4b0aec5a-076f-49ea-b9cc-2d3bb0635388",
   "metadata": {
    "collapsed": true,
    "jupyter": {
     "outputs_hidden": true
    },
    "tags": []
   },
   "outputs": [
    {
     "data": {
      "text/plain": [
       "<Axes: >"
      ]
     },
     "execution_count": 160,
     "metadata": {},
     "output_type": "execute_result"
    },
    {
     "data": {
      "image/png": "[encoded data removed]",
      "text/plain": [
       "<Figure size 720x360 with 1 Axes>"
      ]
     },
     "metadata": {
      "needs_background": "light"
     },
     "output_type": "display_data"
    }
   ],
   "source": [
    "auto_mpg_df['horsepower'].plot(kind='box', figsize=(10, 5))"
   ]
  },
  {
   "cell_type": "code",
   "execution_count": 51,
   "id": "3fa430fe-e6d5-4f1a-aa47-1bfe4134e353",
   "metadata": {},
   "outputs": [
    {
     "name": "stdout",
     "output_type": "stream",
     "text": [
      "Acceleration IQR info\n",
      "Lower Gate : -2.4573508133408954\n",
      "Upper Gate : 2.407906400791956\n"
     ]
    }
   ],
   "source": [
    "acc_series = auto_mpg_df['acceleration']\n",
    "quant_25 = np.quantile(acc_series, 0.25)\n",
    "quant_75 = np.quantile(acc_series, 0.75)\n",
    "\n",
    "lower_outlier_gate = quant_25 - ((1.5) * (quant_75 - quant_25))\n",
    "upper_outlier_gate = quant_75 + ((1.5) * (quant_75 - quant_25))\n",
    "\n",
    "print('Acceleration IQR info')\n",
    "print(f'Lower Gate : {lower_outlier_gate}')\n",
    "print(f'Upper Gate : {upper_outlier_gate}')"
   ]
  },
  {
   "cell_type": "code",
   "execution_count": 57,
   "id": "d56fa120-9244-4e3c-8c09-de328ebf008a",
   "metadata": {},
   "outputs": [
    {
     "data": {
      "text/plain": [
       "59     2.879909\n",
       "195    2.407906\n",
       "299    3.351912\n",
       "300    2.407906\n",
       "326    2.952525\n",
       "394    3.279296\n",
       "Name: acceleration, dtype: float64"
      ]
     },
     "execution_count": 57,
     "metadata": {},
     "output_type": "execute_result"
    }
   ],
   "source": [
    "auto_mpg_df['acceleration'][auto_mpg_df['acceleration'] > upper_outlier_gate]"
   ]
  },
  {
   "cell_type": "code",
   "execution_count": 56,
   "id": "52ebc573-a141-462d-82f0-c59ff28a384d",
   "metadata": {},
   "outputs": [
    {
     "data": {
      "text/plain": [
       "7    -2.566274\n",
       "9    -2.566274\n",
       "11   -2.747814\n",
       "Name: acceleration, dtype: float64"
      ]
     },
     "execution_count": 56,
     "metadata": {},
     "output_type": "execute_result"
    }
   ],
   "source": [
    "auto_mpg_df['acceleration'][auto_mpg_df['acceleration'] < lower_outlier_gate]"
   ]
  },
  {
   "cell_type": "code",
   "execution_count": 107,
   "id": "f5e02f21-e373-4f41-b74e-391bb82d7751",
   "metadata": {},
   "outputs": [
    {
     "data": {
      "image/png": "[encoded data removed]",
      "text/plain": [
       "<Figure size 1080x720 with 8 Axes>"
      ]
     },
     "metadata": {
      "needs_background": "light"
     },
     "output_type": "display_data"
    }
   ],
   "source": [
    "fig, axes = plt.subplots(nrows=2, ncols=4, figsize=(15,10))\n",
    "fig.subplots_adjust(hspace =.2, wspace=.5)\n",
    "\n",
    "axes = axes.ravel()\n",
    "for i, col in enumerate(auto_mpg_df.columns[1:]):\n",
    "    auto_mpg_df[['mpg', col]].plot(kind='box', ax=axes[i])"
   ]
  },
  {
   "cell_type": "code",
   "execution_count": 8,
   "id": "154f2cef-3af1-44e5-973a-09d69b3b844a",
   "metadata": {},
   "outputs": [],
   "source": [
    "\n",
    "def get_outlier_info(series):\n",
    "    \n",
    "    quant_25 = np.quantile(series, 0.25)\n",
    "    quant_75 = np.quantile(series, 0.75)\n",
    "\n",
    "    lower_outlier_gate = quant_25 - ((1.5) * (quant_75 - quant_25))\n",
    "    upper_outlier_gate = quant_75 + ((1.5) * (quant_75 - quant_25))\n",
    "\n",
    "    \n",
    "    return lower_outlier_gate, upper_outlier_gate\n",
    "\n",
    "\n",
    "def get_outlier_val_counts(series, lower_outlier_gate, upper_outlier_gate):\n",
    "    \n",
    "    lower_outliers = series[series < lower_outlier_gate]\n",
    "    upper_outliers = series[series > upper_outlier_gate]\n",
    "\n",
    "    return {lower_outlier_gate : [len(lower_outliers), lower_outliers], upper_outlier_gate : [len(upper_outliers), upper_outliers]}\n",
    "\n",
    "def clean_outliers(df, col_name, lower_cutoff_thresh, upper_cutoff_thresh):\n",
    "    \n",
    "    df.loc[df[col_name] > upper_cutoff_thresh, col_name] = upper_cutoff_thresh\n",
    "    df.loc[df[col_name] < lower_cutoff_thresh, col_name] = lower_cutoff_thresh\n",
    "    \n",
    "    return df\n",
    "    "
   ]
  },
  {
   "cell_type": "markdown",
   "id": "86ff873d-16d5-4786-bd5e-904d5d71bb7c",
   "metadata": {},
   "source": [
    "## Cleaning the outliers by replacing the outlier values with the Upper gate of the quantile plot"
   ]
  },
  {
   "cell_type": "code",
   "execution_count": 8,
   "id": "e6dc473f-10cf-4533-894c-55dfc072214b",
   "metadata": {},
   "outputs": [],
   "source": [
    "# Cleaning the outliers by replacing the outlier values with the Upper gate of the quantile plot\n",
    "val_dict_list = []\n",
    "\n",
    "for col in auto_mpg_df.columns:\n",
    "    \n",
    "    lower_outlier_gate, upper_outlier_gate = get_outlier_info(auto_mpg_df[col])\n",
    "    auto_mpg_df = clean_outliers(auto_mpg_df, col, lower_outlier_gate, upper_outlier_gate)\n",
    "    \n",
    "    #Sanity Check\n",
    "    val_dict = get_outlier_val_counts(auto_mpg_df[col], lower_outlier_gate, upper_outlier_gate)\n",
    "    val_dict_list.append(val_dict)\n",
    "    \n",
    "\n",
    "            \n",
    "print(val_dict_list)"
   ]
  },
  {
   "cell_type": "markdown",
   "id": "fda552bc-4654-4e47-b10c-169364a2d381",
   "metadata": {},
   "source": [
    "## Correlation Analysis"
   ]
  },
  {
   "cell_type": "code",
   "execution_count": 223,
   "id": "50a1ad55-61c1-4f5d-a00c-06ee8446363f",
   "metadata": {},
   "outputs": [
    {
     "data": {
      "image/png": "[encoded data removed]",
      "text/plain": [
       "<Figure size 720x360 with 2 Axes>"
      ]
     },
     "metadata": {
      "needs_background": "light"
     },
     "output_type": "display_data"
    }
   ],
   "source": [
    "corrMatt = auto_mpg_df.drop(columns=['mpg']).corr()\n",
    "# Generate a mask for the upper triangle\n",
    "mask = np.zeros_like(corrMatt)\n",
    "mask[np.triu_indices_from(mask)] = True\n",
    "# Set up the matplotlib figure\n",
    "fig, ax = plt.subplots(figsize=(10,5))\n",
    "plt.title('Auto MPG Feature Correlation')\n",
    "# Generate a custom diverging colormap\n",
    "cmap = sns.diverging_palette(260, 10, as_cmap=True)\n",
    "# Draw the heatmap with the mask and correct aspect ratio\n",
    "sns.heatmap(corrMatt, vmax=1.2, square=False, cmap=cmap, mask=mask,\n",
    "ax=ax, annot=True, fmt='.2g', linewidths=1);"
   ]
  },
  {
   "cell_type": "markdown",
   "id": "7988accc-2bc2-48af-91cc-d06c39e29b5e",
   "metadata": {},
   "source": [
    "<hr>\n",
    "<hr>\n",
    "\n",
    "\n",
    "# Model Training - Dry Run\n"
   ]
  },
  {
   "cell_type": "code",
   "execution_count": 4,
   "id": "395cb4b4-3586-4bdd-a18c-0e3523551ada",
   "metadata": {},
   "outputs": [],
   "source": [
    "import matplotlib.pyplot as plt\n",
    "import numpy as np\n",
    "import pandas as pd\n",
    "import random\n",
    "import seaborn as sns\n",
    "import scipy\n",
    "from scipy.stats import pearsonr\n",
    "import sklearn\n",
    "from sklearn import datasets, linear_model\n",
    "from sklearn.preprocessing import OrdinalEncoder, StandardScaler\n",
    "from sklearn.model_selection import train_test_split\n",
    "from sklearn.metrics import mean_absolute_error, r2_score\n",
    "\n",
    "import pickle\n",
    "from datetime import datetime"
   ]
  },
  {
   "cell_type": "code",
   "execution_count": 5,
   "id": "280899a5-8826-4a3b-8a2b-1e853480d783",
   "metadata": {},
   "outputs": [],
   "source": [
    "def save_model(model, save_path='auto_mpg/models/', name=\"\"):\n",
    "    time_stamp = datetime.now().strftime(\"%d-%b-%Y-%H-%M-%S\")\n",
    "    save_file_name = f'{save_path}{time_stamp}-{name}.pickle'\n",
    "    with open(save_file_name, 'wb') as f:\n",
    "        pickle.dump(model, f)\n",
    "        print(f'Saved in {save_file_name}')"
   ]
  },
  {
   "cell_type": "markdown",
   "id": "a1227691-861b-4928-a1d0-dce8673474f0",
   "metadata": {},
   "source": [
    "## Read and pre-process the data"
   ]
  },
  {
   "cell_type": "code",
   "execution_count": 6,
   "id": "8988d4ff-0911-4ba3-8a53-c7d798d94210",
   "metadata": {},
   "outputs": [],
   "source": [
    "columns = ['mpg', 'cylinders', 'displacement', 'horsepower', 'weight', \\\n",
    "         'acceleration', 'model_year', 'origin', 'car_name']\n",
    "\n",
    "auto_mpg_df = pd.read_csv('auto_mpg/auto-mpg.data', delim_whitespace=True, names=columns)\n",
    "auto_mpg_df.drop(columns=['car_name'], inplace=True)\n",
    "# auto_mpg_df.drop(columns=['car_name', 'weight'], inplace=True)\n",
    "\n",
    "#Converting the column from object to float, coercing the error due to the presence of '?' in the column\n",
    "auto_mpg_df['horsepower'] = pd.to_numeric(auto_mpg_df['horsepower'], errors='coerce')\n",
    "\n",
    "# Using forward fill to replace NaN values\n",
    "auto_mpg_df['horsepower'] = auto_mpg_df[\"horsepower\"].fillna(method='ffill')"
   ]
  },
  {
   "cell_type": "code",
   "execution_count": 9,
   "id": "5f6ea544-aa96-4a5a-ba40-97e01e3e3f69",
   "metadata": {},
   "outputs": [
    {
     "name": "stdout",
     "output_type": "stream",
     "text": [
      "[{0.25: [0, Series([], Name: mpg, dtype: float64)], 46.25: [0, Series([], Name: mpg, dtype: float64)]}, {-2.0: [0, Series([], Name: cylinders, dtype: int64)], 14.0: [0, Series([], Name: cylinders, dtype: int64)]}, {-132.375: [0, Series([], Name: displacement, dtype: float64)], 498.625: [0, Series([], Name: displacement, dtype: float64)]}, {0.0: [0, Series([], Name: horsepower, dtype: float64)], 200.0: [0, Series([], Name: horsepower, dtype: float64)]}, {147.375: [0, Series([], Name: weight, dtype: float64)], 5684.375: [0, Series([], Name: weight, dtype: float64)]}, {8.8: [0, Series([], Name: acceleration, dtype: float64)], 22.2: [0, Series([], Name: acceleration, dtype: float64)]}, {64.0: [0, Series([], Name: model_year, dtype: int64)], 88.0: [0, Series([], Name: model_year, dtype: int64)]}, {-0.5: [0, Series([], Name: origin, dtype: float64)], 3.5: [0, Series([], Name: origin, dtype: float64)]}]\n"
     ]
    }
   ],
   "source": [
    "# Cleaning the outliers by replacing the outlier values with the Upper gate of the quantile plot\n",
    "val_dict_list = []\n",
    "\n",
    "for col in auto_mpg_df.columns:\n",
    "    \n",
    "    lower_outlier_gate, upper_outlier_gate = get_outlier_info(auto_mpg_df[col])\n",
    "    auto_mpg_df = clean_outliers(auto_mpg_df, col, lower_outlier_gate, upper_outlier_gate)\n",
    "    \n",
    "    #Sanity Check\n",
    "    val_dict = get_outlier_val_counts(auto_mpg_df[col], lower_outlier_gate, upper_outlier_gate)\n",
    "    val_dict_list.append(val_dict)\n",
    "    \n",
    "    \n",
    "\n",
    "            \n",
    "print(val_dict_list)"
   ]
  },
  {
   "cell_type": "markdown",
   "id": "4f8db8c5-1161-46a2-842f-c89b94377da5",
   "metadata": {},
   "source": [
    "## Split the data"
   ]
  },
  {
   "cell_type": "code",
   "execution_count": 11,
   "id": "4fc32c19-541d-4834-bcea-4c2db0691809",
   "metadata": {},
   "outputs": [],
   "source": [
    "def train_val_test_split(Xy, train_ratio=0.7, only_test=False):\n",
    "    \n",
    "    np.random.shuffle(Xy)\n",
    "    total_count = Xy.shape[0]\n",
    "    train_count = int(train_ratio * total_count)\n",
    "    val_count = int((total_count - train_count)/2)\n",
    "    test_count = total_count - (train_count + val_count)\n",
    "    \n",
    "    return Xy[:train_count], Xy[train_count:train_count+val_count], Xy[train_count+val_count:]"
   ]
  },
  {
   "cell_type": "code",
   "execution_count": 13,
   "id": "7a31145d-fefd-4bbe-9a9c-76e85a82aba8",
   "metadata": {},
   "outputs": [
    {
     "data": {
      "text/html": [
       "<div>\n",
       "<style scoped>\n",
       "    .dataframe tbody tr th:only-of-type {\n",
       "        vertical-align: middle;\n",
       "    }\n",
       "\n",
       "    .dataframe tbody tr th {\n",
       "        vertical-align: top;\n",
       "    }\n",
       "\n",
       "    .dataframe thead th {\n",
       "        text-align: right;\n",
       "    }\n",
       "</style>\n",
       "<table border=\"1\" class=\"dataframe\">\n",
       "  <thead>\n",
       "    <tr style=\"text-align: right;\">\n",
       "      <th></th>\n",
       "      <th>mpg</th>\n",
       "      <th>cylinders</th>\n",
       "      <th>displacement</th>\n",
       "      <th>horsepower</th>\n",
       "      <th>weight</th>\n",
       "      <th>acceleration</th>\n",
       "      <th>model_year</th>\n",
       "      <th>origin</th>\n",
       "    </tr>\n",
       "  </thead>\n",
       "  <tbody>\n",
       "    <tr>\n",
       "      <th>0</th>\n",
       "      <td>18.0</td>\n",
       "      <td>8</td>\n",
       "      <td>307.0</td>\n",
       "      <td>130.0</td>\n",
       "      <td>3504.0</td>\n",
       "      <td>12.0</td>\n",
       "      <td>70</td>\n",
       "      <td>1.0</td>\n",
       "    </tr>\n",
       "    <tr>\n",
       "      <th>1</th>\n",
       "      <td>15.0</td>\n",
       "      <td>8</td>\n",
       "      <td>350.0</td>\n",
       "      <td>165.0</td>\n",
       "      <td>3693.0</td>\n",
       "      <td>11.5</td>\n",
       "      <td>70</td>\n",
       "      <td>1.0</td>\n",
       "    </tr>\n",
       "    <tr>\n",
       "      <th>2</th>\n",
       "      <td>18.0</td>\n",
       "      <td>8</td>\n",
       "      <td>318.0</td>\n",
       "      <td>150.0</td>\n",
       "      <td>3436.0</td>\n",
       "      <td>11.0</td>\n",
       "      <td>70</td>\n",
       "      <td>1.0</td>\n",
       "    </tr>\n",
       "    <tr>\n",
       "      <th>3</th>\n",
       "      <td>16.0</td>\n",
       "      <td>8</td>\n",
       "      <td>304.0</td>\n",
       "      <td>150.0</td>\n",
       "      <td>3433.0</td>\n",
       "      <td>12.0</td>\n",
       "      <td>70</td>\n",
       "      <td>1.0</td>\n",
       "    </tr>\n",
       "    <tr>\n",
       "      <th>4</th>\n",
       "      <td>17.0</td>\n",
       "      <td>8</td>\n",
       "      <td>302.0</td>\n",
       "      <td>140.0</td>\n",
       "      <td>3449.0</td>\n",
       "      <td>10.5</td>\n",
       "      <td>70</td>\n",
       "      <td>1.0</td>\n",
       "    </tr>\n",
       "  </tbody>\n",
       "</table>\n",
       "</div>"
      ],
      "text/plain": [
       "    mpg  cylinders  displacement  horsepower  weight  acceleration  \\\n",
       "0  18.0          8         307.0       130.0  3504.0          12.0   \n",
       "1  15.0          8         350.0       165.0  3693.0          11.5   \n",
       "2  18.0          8         318.0       150.0  3436.0          11.0   \n",
       "3  16.0          8         304.0       150.0  3433.0          12.0   \n",
       "4  17.0          8         302.0       140.0  3449.0          10.5   \n",
       "\n",
       "   model_year  origin  \n",
       "0          70     1.0  \n",
       "1          70     1.0  \n",
       "2          70     1.0  \n",
       "3          70     1.0  \n",
       "4          70     1.0  "
      ]
     },
     "execution_count": 13,
     "metadata": {},
     "output_type": "execute_result"
    }
   ],
   "source": [
    "auto_mpg_df.head()"
   ]
  },
  {
   "cell_type": "code",
   "execution_count": 12,
   "id": "b3d0cd42-f322-4a3b-8fff-3fd57f6780a0",
   "metadata": {},
   "outputs": [
    {
     "data": {
      "text/plain": [
       "((278, 8), (60, 8), (60, 8))"
      ]
     },
     "execution_count": 12,
     "metadata": {},
     "output_type": "execute_result"
    }
   ],
   "source": [
    "c_numpy = auto_mpg_df.to_numpy()\n",
    "train, val, test = train_val_test_split(c_numpy)\n",
    "train.shape, val.shape, test.shape"
   ]
  },
  {
   "cell_type": "code",
   "execution_count": 13,
   "id": "3fff27c3-fd90-4ae0-b1d2-3e37680da088",
   "metadata": {},
   "outputs": [],
   "source": [
    "scalerTrainX = StandardScaler()\n",
    "scalerTrainY = StandardScaler()\n",
    "\n",
    "trainX = scalerTrainX.fit_transform(train[:, 1:])\n",
    "trainY = scalerTrainY.fit_transform(train[:, 0].reshape(-1, 1))\n",
    "\n",
    "valX = scalerTrainX.transform(val[:, 1:])\n",
    "valY = scalerTrainY.transform(val[:, 0].reshape(-1, 1))\n",
    "\n",
    "testX = scalerTrainX.transform(test[:, 1:])\n",
    "testY = scalerTrainY.transform(test[:, 0].reshape(-1, 1))"
   ]
  },
  {
   "cell_type": "code",
   "execution_count": 14,
   "id": "e9146160-656c-4804-8365-b1b495a6830b",
   "metadata": {},
   "outputs": [
    {
     "data": {
      "text/plain": [
       "((278, 8), (278, 7), (278,))"
      ]
     },
     "execution_count": 14,
     "metadata": {},
     "output_type": "execute_result"
    }
   ],
   "source": [
    "train.shape, train[:, 1:].shape, train[:, 0].shape"
   ]
  },
  {
   "cell_type": "code",
   "execution_count": 15,
   "id": "0e05a1bf-92a1-4a94-843f-7d582ea90ab5",
   "metadata": {},
   "outputs": [
    {
     "name": "stdout",
     "output_type": "stream",
     "text": [
      "Train Mean : -0.00000000000000111821 Train std : 1.00000000000000000000\n",
      "Val Mean : 0.17501792822435863206 Val std: 0.97545230987339026640\n",
      "Test Mean : -0.00366361436239129963 Test std: 0.94215339595788305527\n",
      "TrainY Mean : -0.00000000000000010863 TrainY std : 1.00000000000000000000\n"
     ]
    }
   ],
   "source": [
    "index=5\n",
    "\n",
    "print(f'Train Mean : {np.average(trainX[:,index]):.20f}', f'Train std : {np.std(trainX[:,index]):.20f}')\n",
    "print(f'Val Mean : {np.average(valX[:,index]):.20f}', f'Val std: {np.std(valX[:,index]):.20f}')\n",
    "print(f'Test Mean : {np.average(testX[:,index]):.20f}', f'Test std: {np.std(testX[:,index]):.20f}')\n",
    "\n",
    "print(f'TrainY Mean : {np.average(trainY[:,0]):.20f}', f'TrainY std : {np.std(trainY[:,0]):.20f}')"
   ]
  },
  {
   "cell_type": "markdown",
   "id": "dc3a6d33-23c4-44a9-8383-51a1c6e37558",
   "metadata": {},
   "source": [
    "# Decision Tree"
   ]
  },
  {
   "cell_type": "code",
   "execution_count": 21,
   "id": "726331bf-a539-49d1-852f-ca54c0c4173b",
   "metadata": {},
   "outputs": [],
   "source": [
    "from sklearn import tree\n",
    "from sklearn.model_selection import cross_val_score\n",
    "from sklearn.metrics import mean_squared_error, make_scorer, accuracy_score\n",
    "from sklearn.model_selection import GridSearchCV"
   ]
  },
  {
   "cell_type": "code",
   "execution_count": 39,
   "id": "9e90f8bd-4d0d-4a27-bae9-55c964973794",
   "metadata": {},
   "outputs": [
    {
     "name": "stdout",
     "output_type": "stream",
     "text": [
      "MSE error: 0.1990050894630365\n",
      "MAE error: 0.34046598338256806\n",
      "R2 error: 0.7672283398821702\n"
     ]
    }
   ],
   "source": [
    "# criterion='absolute_error', 'squared_error'\n",
    "clf = tree.DecisionTreeRegressor(criterion='absolute_error', min_samples_leaf=2, min_samples_split=10, max_depth=50)\n",
    "clf = clf.fit(trainX, trainY)\n",
    "predicted = clf.predict(testX)\n",
    "test_mse_error = mean_squared_error(predicted, testY)\n",
    "test_mae_error = mean_absolute_error(predicted, testY)\n",
    "test_r2_error = r2_score(predicted, testY)\n",
    "\n",
    "print(f'MSE error: {test_mse_error}')\n",
    "print(f'MAE error: {test_mae_error}')\n",
    "print(f'R2 error: {test_r2_error}')"
   ]
  },
  {
   "cell_type": "code",
   "execution_count": 23,
   "id": "70cab3d4-0121-43e1-b309-bcdae5d1f401",
   "metadata": {},
   "outputs": [],
   "source": [
    "# save_model(clf, name='decision_tree')"
   ]
  },
  {
   "cell_type": "markdown",
   "id": "65b35ee9-4887-4672-b509-9e84ff016051",
   "metadata": {},
   "source": [
    "## Grid Search for Hyperparameters\n"
   ]
  },
  {
   "cell_type": "code",
   "execution_count": 40,
   "id": "233fccf4-b973-41ac-85ad-5287fc4a5379",
   "metadata": {},
   "outputs": [],
   "source": [
    "# criterion = ['squared_error', 'friedman_mse', 'absolute_error', 'poisson']\n",
    "criterion = ['squared_error', 'absolute_error']\n",
    "max_depth = [10, 20, 30, 45, 50, 55, 60]\n",
    "min_samples_split  = [5, 6, 7, 8, 9, 10, 11, 12, 13]\n",
    "min_samples_leaf = [2, 3, 4, 5,6,7,8,9,]\n",
    "max_features = [3, 5, 6]\n",
    "\n",
    "parameters = dict(criterion=criterion, max_depth=max_depth, min_samples_split=min_samples_split,\n",
    "                  min_samples_leaf=min_samples_leaf, max_features=max_features)"
   ]
  },
  {
   "cell_type": "code",
   "execution_count": 41,
   "id": "04ca0814-9a09-4c5e-b2ca-6a2fa47f0d09",
   "metadata": {
    "tags": []
   },
   "outputs": [
    {
     "name": "stdout",
     "output_type": "stream",
     "text": [
      "Best Criterion: absolute_error\n",
      "Best max_depth: 10\n",
      "Best Number Of min_samples_leaf: 4\n",
      "Best Number Of min_samples_split: 11\n"
     ]
    }
   ],
   "source": [
    "clf = tree.DecisionTreeRegressor(random_state=1)\n",
    "clf_GS = GridSearchCV(clf, parameters)\n",
    "clf_GS.fit(trainX, trainY)\n",
    "\n",
    "print('Best Criterion:', clf_GS.best_estimator_.get_params()['criterion'])\n",
    "print('Best max_depth:', clf_GS.best_estimator_.get_params()['max_depth'])\n",
    "print('Best Number Of min_samples_leaf:', clf_GS.best_estimator_.get_params()['min_samples_leaf'])\n",
    "print('Best Number Of min_samples_split:', clf_GS.best_estimator_.get_params()['min_samples_split'])"
   ]
  },
  {
   "cell_type": "code",
   "execution_count": 42,
   "id": "c784ad9f-d201-412a-8b67-f596d02342f2",
   "metadata": {
    "tags": []
   },
   "outputs": [
    {
     "data": {
      "text/plain": [
       "18"
      ]
     },
     "execution_count": 42,
     "metadata": {},
     "output_type": "execute_result"
    }
   ],
   "source": [
    "len(clf_GS.cv_results_)"
   ]
  },
  {
   "cell_type": "code",
   "execution_count": 43,
   "id": "7b553a56-64cf-4d90-8fb0-8655ad373d63",
   "metadata": {},
   "outputs": [
    {
     "data": {
      "text/plain": [
       "dict_keys(['mean_fit_time', 'std_fit_time', 'mean_score_time', 'std_score_time', 'param_criterion', 'param_max_depth', 'param_max_features', 'param_min_samples_leaf', 'param_min_samples_split', 'params', 'split0_test_score', 'split1_test_score', 'split2_test_score', 'split3_test_score', 'split4_test_score', 'mean_test_score', 'std_test_score', 'rank_test_score'])"
      ]
     },
     "execution_count": 43,
     "metadata": {},
     "output_type": "execute_result"
    }
   ],
   "source": [
    "clf_GS.cv_results_.keys()"
   ]
  },
  {
   "cell_type": "code",
   "execution_count": 33,
   "id": "1a767898-3c3f-4219-9880-05c98da50355",
   "metadata": {},
   "outputs": [
    {
     "data": {
      "text/plain": [
       "(3024,)"
      ]
     },
     "execution_count": 33,
     "metadata": {},
     "output_type": "execute_result"
    }
   ],
   "source": [
    "clf_GS.cv_results_['split0_test_score'].shape"
   ]
  },
  {
   "cell_type": "code",
   "execution_count": 34,
   "id": "820088b6-cb9e-4cc8-a2a5-69e57ba7cc7c",
   "metadata": {},
   "outputs": [
    {
     "data": {
      "text/plain": [
       "array([0.71531884, 0.73646532, 0.76065867, ..., 0.78225726, 0.78225726,\n",
       "       0.78225726])"
      ]
     },
     "execution_count": 34,
     "metadata": {},
     "output_type": "execute_result"
    }
   ],
   "source": [
    "clf_GS.cv_results_['split0_test_score']"
   ]
  },
  {
   "cell_type": "code",
   "execution_count": 25,
   "id": "47443675-4384-472d-9ca8-afd3c10dcd61",
   "metadata": {},
   "outputs": [
    {
     "data": {
      "text/plain": [
       "{'ccp_alpha': 0.0,\n",
       " 'criterion': 'absolute_error',\n",
       " 'max_depth': 10,\n",
       " 'max_features': 3,\n",
       " 'max_leaf_nodes': None,\n",
       " 'min_impurity_decrease': 0.0,\n",
       " 'min_samples_leaf': 8,\n",
       " 'min_samples_split': 5,\n",
       " 'min_weight_fraction_leaf': 0.0,\n",
       " 'random_state': 1,\n",
       " 'splitter': 'best'}"
      ]
     },
     "execution_count": 25,
     "metadata": {},
     "output_type": "execute_result"
    }
   ],
   "source": [
    "clf_GS.best_estimator_.get_params()"
   ]
  },
  {
   "cell_type": "code",
   "execution_count": 44,
   "id": "9d050059-9fbd-4adf-817e-418c95577706",
   "metadata": {},
   "outputs": [
    {
     "name": "stdout",
     "output_type": "stream",
     "text": [
      "MSE error: 0.1734846423381597\n",
      "MAE error: 0.3229683508000584\n",
      "R2 error: 0.8052088423251224\n"
     ]
    }
   ],
   "source": [
    "clf = tree.DecisionTreeRegressor(**clf_GS.best_estimator_.get_params())\n",
    "clf = clf.fit(trainX, trainY)\n",
    "predicted = clf.predict(testX)\n",
    "test_mse_error = mean_squared_error(predicted, testY)\n",
    "test_mae_error = mean_absolute_error(predicted, testY)\n",
    "test_r2_error = r2_score(predicted, testY)\n",
    "\n",
    "\n",
    "print(f'MSE error: {test_mse_error}')\n",
    "print(f'MAE error: {test_mae_error}')\n",
    "print(f'R2 error: {test_r2_error}')\n"
   ]
  },
  {
   "cell_type": "code",
   "execution_count": 20,
   "id": "415c4c0e-ba9d-4d03-b514-cf7584a95c7c",
   "metadata": {},
   "outputs": [
    {
     "name": "stdout",
     "output_type": "stream",
     "text": [
      "MSE error: 0.10191270795547981\n",
      "MAE error: 0.25730226517181737\n",
      "R2 error: 0.8654075119754495\n"
     ]
    }
   ],
   "source": [
    "predicted = clf.predict(testX)\n",
    "test_mse_error = mean_squared_error(predicted, testY)\n",
    "test_mae_error = mean_absolute_error(predicted, testY)\n",
    "test_r2_error = r2_score(predicted, testY)\n",
    "\n",
    "print(f'MSE error: {test_mse_error}')\n",
    "print(f'MAE error: {test_mae_error}')\n",
    "print(f'R2 error: {test_r2_error}')"
   ]
  },
  {
   "cell_type": "code",
   "execution_count": 22,
   "id": "d8243c48-fc32-4b96-af6d-5b5eeb3c44d5",
   "metadata": {},
   "outputs": [
    {
     "data": {
      "image/png": "[encoded data removed]",
      "text/plain": [
       "<Figure size 1080x504 with 1 Axes>"
      ]
     },
     "metadata": {
      "needs_background": "light"
     },
     "output_type": "display_data"
    }
   ],
   "source": [
    "plt.figure(figsize=(15,7))\n",
    "plt.plot(list(range(len(predicted))), predicted, color='orange', label='Predictions')\n",
    "plt.plot(list(range(len(predicted))), testY.flatten(), label='Ground Truth')\n",
    "plt.xlabel(\"Instances\")\n",
    "plt.ylabel(\"Predictions\")\n",
    "plt.legend();\n",
    "plt.show()"
   ]
  },
  {
   "cell_type": "code",
   "execution_count": 34,
   "id": "faa6e3be-b38b-41ac-9fe0-921ec09d0dbf",
   "metadata": {},
   "outputs": [
    {
     "name": "stdout",
     "output_type": "stream",
     "text": [
      "Saved in auto_mpg/models/06-Nov-2023-14-38-58-decision_tree.pickle\n"
     ]
    }
   ],
   "source": [
    "save_model(clf, name='decision_tree')"
   ]
  },
  {
   "cell_type": "code",
   "execution_count": 81,
   "id": "f189af1a-2274-4d89-8355-9da4d4f6fc79",
   "metadata": {},
   "outputs": [
    {
     "name": "stdout",
     "output_type": "stream",
     "text": [
      "MSE error: 0.1961491034374352\n",
      "MAE error: 0.2974272389634919\n"
     ]
    }
   ],
   "source": [
    "clf = tree.DecisionTreeRegressor(criterion='squared_error', min_samples_leaf=2, min_samples_split=10,\n",
    "                                 max_depth=50)\n",
    "clf = clf.fit(trainX, trainY)\n",
    "predicted = clf.predict(testX)\n",
    "test_mse_error = mean_squared_error(predicted, testY)\n",
    "test_mae_error = mean_absolute_error(predicted, testY)\n",
    "\n",
    "print(f'MSE error: {test_mse_error}')\n",
    "print(f'MAE error: {test_mae_error}')"
   ]
  },
  {
   "cell_type": "code",
   "execution_count": 128,
   "id": "47c748c6-5487-4e0b-9fab-ce7cf19f564e",
   "metadata": {},
   "outputs": [],
   "source": [
    "def comparison_plot(pred, GT, figsize=(10,10)):\n",
    "    plt.rcParams['legend.numpoints'] = 1\n",
    "\n",
    "    #generate some random data\n",
    "    # pred = predicted\n",
    "    # GT =  testY.flatten()\n",
    "\n",
    "    fig, ax = plt.subplots(figsize=(10,10))\n",
    "\n",
    "    # plot a black line between the \n",
    "    # ith prediction and the ith ground truth \n",
    "    for i in range(len(pred)):\n",
    "        ax.plot([i,i],[pred[i], GT[i]], c=\"k\", linewidth=0.5)\n",
    "    ax.plot(pred,'o', label='Prediction', color = 'g')\n",
    "    ax.plot(GT,'^', label='Ground Truth', color = 'r' )\n",
    "\n",
    "    ax.set_xlim((-1,60))\n",
    "    plt.xlabel('Instances')\n",
    "    plt.ylabel('Predictions')\n",
    "    plt.title('Prediction - Ground Truth Comparison')\n",
    "\n",
    "    plt.legend()             \n",
    "    plt.show()\n",
    "    "
   ]
  },
  {
   "cell_type": "code",
   "execution_count": null,
   "id": "febde3c8-79c6-44af-95ec-279c15e6ffe1",
   "metadata": {},
   "outputs": [],
   "source": [
    "plt.figure(figsize=(15,7))\n",
    "plt.plot(list(range(len(predicted))), predicted, color='orange', label='Predictions')\n",
    "plt.plot(list(range(len(predicted))), testY.flatten(), label='Ground Truth')\n",
    "plt.legend();\n",
    "plt.show()"
   ]
  },
  {
   "cell_type": "code",
   "execution_count": 150,
   "id": "7afe53de-f9cc-4b96-89e1-b5f8a728d137",
   "metadata": {},
   "outputs": [
    {
     "data": {
      "image/png": "[encoded data removed]",
      "text/plain": [
       "<Figure size 720x720 with 1 Axes>"
      ]
     },
     "metadata": {
      "needs_background": "light"
     },
     "output_type": "display_data"
    }
   ],
   "source": [
    "comparison_plot(predicted, testY.flatten())"
   ]
  },
  {
   "cell_type": "markdown",
   "id": "e238c7b9-63f4-4354-872a-1e21521bc73c",
   "metadata": {},
   "source": [
    "## Cross validation"
   ]
  },
  {
   "cell_type": "code",
   "execution_count": 36,
   "id": "39b2fe84-72db-4b71-8806-10e46b4d817a",
   "metadata": {},
   "outputs": [],
   "source": [
    "def perform_dt_cv(Xdata, Ydata, params:dict=None, cv_no:int=10, scoring=None):\n",
    "    \n",
    "    if params is None:\n",
    "        clf = tree.DecisionTreeRegressor()\n",
    "    else:\n",
    "        clf = tree.DecisionTreeRegressor(**params)\n",
    "        \n",
    "    if scoring is None:\n",
    "        scoring='neg_mean_squared_error'\n",
    "        \n",
    "        \n",
    "    cv_scores = cross_val_score(clf, Xdata, Ydata, cv=cv_no, scoring=scoring)\n",
    "    print(f'CV Scores : {cv_scores}')\n",
    "    \n",
    "    print(f'Mean CV Scores : {np.average(cv_scores)}')"
   ]
  },
  {
   "cell_type": "code",
   "execution_count": 37,
   "id": "6ae0e049-de5b-4c85-962f-e1f7cfe0f089",
   "metadata": {
    "tags": []
   },
   "outputs": [
    {
     "name": "stdout",
     "output_type": "stream",
     "text": [
      "CV Scores : [0.12081511 0.18339939 0.15427095 0.05739827 0.1476284  0.11417596\n",
      " 0.08863869 0.26109718 0.10184375 0.2198936 ]\n",
      "Mean CV Scores : 0.14491613046167617\n"
     ]
    }
   ],
   "source": [
    "perform_dt_cv(Xdata=trainX, Ydata=trainY,\n",
    "              params=clf_GS.best_estimator_.get_params(), cv_no=10,\n",
    "              scoring=make_scorer(mean_squared_error))"
   ]
  },
  {
   "cell_type": "code",
   "execution_count": 45,
   "id": "215a5d25-0aad-44c1-8924-22c4f2e720aa",
   "metadata": {},
   "outputs": [
    {
     "name": "stdout",
     "output_type": "stream",
     "text": [
      "CV Scores : [0.25637753 0.32540103 0.27798036 0.19475551 0.29308291 0.23331565\n",
      " 0.20447758 0.33463499 0.24046157 0.34855698]\n",
      "Mean CV Scores : 0.27090441096737944\n"
     ]
    }
   ],
   "source": [
    "perform_dt_cv(Xdata=trainX, Ydata=trainY,\n",
    "              params=clf_GS.best_estimator_.get_params(), cv_no=10,\n",
    "              scoring=make_scorer(mean_absolute_error))"
   ]
  },
  {
   "cell_type": "code",
   "execution_count": 46,
   "id": "99fb2850-9f10-4e7e-bdc5-a6e70417cd1d",
   "metadata": {},
   "outputs": [
    {
     "name": "stdout",
     "output_type": "stream",
     "text": [
      "CV Scores : [0.89777348 0.78656488 0.85407269 0.92232824 0.84104994 0.89081397\n",
      " 0.89880632 0.77095209 0.87354152 0.80678264]\n",
      "Mean CV Scores : 0.8542685758328548\n"
     ]
    }
   ],
   "source": [
    "perform_dt_cv(Xdata=trainX, Ydata=trainY,\n",
    "              params=clf_GS.best_estimator_.get_params(), cv_no=10,\n",
    "              scoring=make_scorer(r2_score))"
   ]
  },
  {
   "cell_type": "markdown",
   "id": "b12cc2d5-34fa-4292-85a8-81e21a278df2",
   "metadata": {},
   "source": [
    "<hr>\n",
    "<hr>"
   ]
  },
  {
   "cell_type": "markdown",
   "id": "fb5ae20d-c8be-45d5-b825-818f83c4a319",
   "metadata": {},
   "source": [
    "# Support Vector Machine\n"
   ]
  },
  {
   "cell_type": "code",
   "execution_count": 47,
   "id": "06f9b5b4-d686-40b3-aba9-41d50de22add",
   "metadata": {},
   "outputs": [],
   "source": [
    "from sklearn import svm"
   ]
  },
  {
   "cell_type": "code",
   "execution_count": 37,
   "id": "062ee0f3-9e84-46ef-81bd-6c4eff7c8554",
   "metadata": {},
   "outputs": [
    {
     "data": {
      "text/plain": [
       "SVR()"
      ]
     },
     "execution_count": 37,
     "metadata": {},
     "output_type": "execute_result"
    }
   ],
   "source": [
    "regr = svm.SVR()\n",
    "regr.fit(trainX, trainY.ravel())"
   ]
  },
  {
   "cell_type": "code",
   "execution_count": 38,
   "id": "c56350fc-6823-4cc0-8d41-cbc03863eda8",
   "metadata": {},
   "outputs": [
    {
     "name": "stdout",
     "output_type": "stream",
     "text": [
      "MSE error: 0.13597056768382573\n",
      "MAE error: 0.24532276219202617\n",
      "R2 error: 0.8199712433332453\n"
     ]
    }
   ],
   "source": [
    "predicted = regr.predict(testX)\n",
    "test_mse_error = mean_squared_error(predicted, testY)\n",
    "test_mae_error = mean_absolute_error(predicted, testY)\n",
    "test_r2_error = r2_score(predicted, testY)\n",
    "\n",
    "print(f'MSE error: {test_mse_error}')\n",
    "print(f'MAE error: {test_mae_error}')\n",
    "print(f'R2 error: {test_r2_error}')\n"
   ]
  },
  {
   "cell_type": "markdown",
   "id": "d6456940-5e21-4328-b200-956351e3f351",
   "metadata": {},
   "source": [
    "## Grid Search for Hyperparameters\n"
   ]
  },
  {
   "cell_type": "code",
   "execution_count": 48,
   "id": "9fa95775-5890-4533-a23b-2e6155bc1ced",
   "metadata": {},
   "outputs": [],
   "source": [
    "kernel = ['linear', 'poly', 'rbf', 'sigmoid']\n",
    "degree = [2, 3, 4]\n",
    "gamma  = ['scale', 'auto']\n",
    "\n",
    "parameters = dict(kernel=kernel, degree=degree, gamma=gamma)"
   ]
  },
  {
   "cell_type": "code",
   "execution_count": 49,
   "id": "e49deb84-82fd-44e7-a396-117ae8b150de",
   "metadata": {},
   "outputs": [
    {
     "data": {
      "text/plain": [
       "((278, 7), (278,))"
      ]
     },
     "execution_count": 49,
     "metadata": {},
     "output_type": "execute_result"
    }
   ],
   "source": [
    "trainX.shape, trainY.ravel().shape"
   ]
  },
  {
   "cell_type": "code",
   "execution_count": 50,
   "id": "6ab91b7c-7526-44b1-9fe6-1dc2d70f75f9",
   "metadata": {},
   "outputs": [
    {
     "name": "stdout",
     "output_type": "stream",
     "text": [
      "Best kernel: rbf\n",
      "Best degree: 2\n",
      "Best gamma: scale\n"
     ]
    }
   ],
   "source": [
    "regr = svm.SVR()\n",
    "regr_GS = GridSearchCV(regr, parameters)\n",
    "regr_GS.fit(trainX, trainY.ravel())\n",
    "\n",
    "print('Best kernel:', regr_GS.best_estimator_.get_params()['kernel'])\n",
    "print('Best degree:', regr_GS.best_estimator_.get_params()['degree'])\n",
    "print('Best gamma:', regr_GS.best_estimator_.get_params()['gamma'])\n"
   ]
  },
  {
   "cell_type": "code",
   "execution_count": 116,
   "id": "a57f1be3-9e4a-4028-9639-5d28d1e477ed",
   "metadata": {},
   "outputs": [
    {
     "name": "stdout",
     "output_type": "stream",
     "text": [
      "MSE error: 0.10981605190655519\n",
      "MAE error: 0.23231009330140476\n",
      "R2 error: 0.8467785045002585\n"
     ]
    }
   ],
   "source": [
    "regr = svm.SVR(**regr_GS.best_estimator_.get_params())\n",
    "regr.fit(trainX, trainY.ravel())\n",
    "\n",
    "predicted = regr.predict(testX)\n",
    "test_mse_error = mean_squared_error(predicted, testY)\n",
    "test_mae_error = mean_absolute_error(predicted, testY)\n",
    "test_r2_error = r2_score(predicted, testY)\n",
    "\n",
    "print(f'MSE error: {test_mse_error}')\n",
    "print(f'MAE error: {test_mae_error}')\n",
    "print(f'R2 error: {test_r2_error}')"
   ]
  },
  {
   "cell_type": "code",
   "execution_count": null,
   "id": "3219ccff-c6c0-42ff-9394-d9c7f96ba7e8",
   "metadata": {},
   "outputs": [
    {
     "name": "stdout",
     "output_type": "stream",
     "text": [
      "Saved in auto_mpg/models/06-Nov-2023-14-57-39-svm.pickle\n"
     ]
    }
   ],
   "source": [
    "save_model(regr, name='svm')"
   ]
  },
  {
   "cell_type": "code",
   "execution_count": 1,
   "id": "4ade7e4a-027a-442a-96be-fab6ab00e1a9",
   "metadata": {},
   "outputs": [
    {
     "ename": "NameError",
     "evalue": "name 'plt' is not defined",
     "output_type": "error",
     "traceback": [
      "\u001b[1;31m---------------------------------------------------------------------------\u001b[0m",
      "\u001b[1;31mNameError\u001b[0m                                 Traceback (most recent call last)",
      "Input \u001b[1;32mIn [1]\u001b[0m, in \u001b[0;36m<cell line: 1>\u001b[1;34m()\u001b[0m\n\u001b[1;32m----> 1\u001b[0m \u001b[43mplt\u001b[49m\u001b[38;5;241m.\u001b[39mfigure(figsize\u001b[38;5;241m=\u001b[39m(\u001b[38;5;241m15\u001b[39m,\u001b[38;5;241m7\u001b[39m))\n\u001b[0;32m      2\u001b[0m plt\u001b[38;5;241m.\u001b[39mplot(\u001b[38;5;28mlist\u001b[39m(\u001b[38;5;28mrange\u001b[39m(\u001b[38;5;28mlen\u001b[39m(predicted))), predicted, color\u001b[38;5;241m=\u001b[39m\u001b[38;5;124m'\u001b[39m\u001b[38;5;124morange\u001b[39m\u001b[38;5;124m'\u001b[39m, label\u001b[38;5;241m=\u001b[39m\u001b[38;5;124m'\u001b[39m\u001b[38;5;124mPredictions\u001b[39m\u001b[38;5;124m'\u001b[39m)\n\u001b[0;32m      3\u001b[0m plt\u001b[38;5;241m.\u001b[39mplot(\u001b[38;5;28mlist\u001b[39m(\u001b[38;5;28mrange\u001b[39m(\u001b[38;5;28mlen\u001b[39m(predicted))), testY\u001b[38;5;241m.\u001b[39mflatten(), label\u001b[38;5;241m=\u001b[39m\u001b[38;5;124m'\u001b[39m\u001b[38;5;124mGround Truth\u001b[39m\u001b[38;5;124m'\u001b[39m)\n",
      "\u001b[1;31mNameError\u001b[0m: name 'plt' is not defined"
     ]
    }
   ],
   "source": [
    "plt.figure(figsize=(15,7))\n",
    "plt.plot(list(range(len(predicted))), predicted, color='orange', label='Predictions')\n",
    "plt.plot(list(range(len(predicted))), testY.flatten(), label='Ground Truth')\n",
    "plt.xlabel(\"Instances\")\n",
    "plt.ylabel(\"Predictions\")\n",
    "plt.legend();\n",
    "plt.show()"
   ]
  },
  {
   "cell_type": "code",
   "execution_count": 57,
   "id": "d947adbd-3fb5-4d8f-945f-2a96e02d4425",
   "metadata": {
    "collapsed": true,
    "jupyter": {
     "outputs_hidden": true
    },
    "tags": []
   },
   "outputs": [
    {
     "data": {
      "text/plain": [
       "[0,\n",
       " 1,\n",
       " 2,\n",
       " 3,\n",
       " 4,\n",
       " 5,\n",
       " 6,\n",
       " 7,\n",
       " 8,\n",
       " 9,\n",
       " 10,\n",
       " 11,\n",
       " 12,\n",
       " 13,\n",
       " 14,\n",
       " 15,\n",
       " 16,\n",
       " 17,\n",
       " 18,\n",
       " 19,\n",
       " 20,\n",
       " 21,\n",
       " 22,\n",
       " 23,\n",
       " 24,\n",
       " 25,\n",
       " 26,\n",
       " 27,\n",
       " 28,\n",
       " 29,\n",
       " 30,\n",
       " 31,\n",
       " 32,\n",
       " 33,\n",
       " 34,\n",
       " 35,\n",
       " 36,\n",
       " 37,\n",
       " 38,\n",
       " 39,\n",
       " 40,\n",
       " 41,\n",
       " 42,\n",
       " 43,\n",
       " 44,\n",
       " 45,\n",
       " 46,\n",
       " 47,\n",
       " 48,\n",
       " 49,\n",
       " 50,\n",
       " 51,\n",
       " 52,\n",
       " 53,\n",
       " 54,\n",
       " 55,\n",
       " 56,\n",
       " 57,\n",
       " 58,\n",
       " 59]"
      ]
     },
     "execution_count": 57,
     "metadata": {},
     "output_type": "execute_result"
    }
   ],
   "source": []
  },
  {
   "cell_type": "code",
   "execution_count": 129,
   "id": "b6bbb7de-ad00-46e9-a382-f941d91109a4",
   "metadata": {},
   "outputs": [
    {
     "data": {
      "image/png": "[encoded data removed]",
      "text/plain": [
       "<Figure size 720x720 with 1 Axes>"
      ]
     },
     "metadata": {
      "needs_background": "light"
     },
     "output_type": "display_data"
    }
   ],
   "source": [
    "comparison_plot(predicted, testY.flatten())"
   ]
  },
  {
   "cell_type": "code",
   "execution_count": 51,
   "id": "5e135636-e7dd-4c11-9a5b-eb5674a42eb7",
   "metadata": {},
   "outputs": [],
   "source": [
    "regr = svm.SVR(**regr_GS.best_estimator_.get_params())\n",
    "mse_cv_scores = cross_val_score(regr, trainX, trainY.ravel(), cv=10, scoring=make_scorer(mean_squared_error))\n",
    "mae_cv_scores = cross_val_score(regr, trainX, trainY.ravel(), cv=10, scoring=make_scorer(mean_absolute_error))\n",
    "r2_cv_scores = cross_val_score(regr, trainX, trainY.ravel(), cv=10, scoring=make_scorer(r2_score))\n"
   ]
  },
  {
   "cell_type": "code",
   "execution_count": 52,
   "id": "89db0f38-3ca0-4255-9357-dd11c985cf09",
   "metadata": {},
   "outputs": [
    {
     "name": "stdout",
     "output_type": "stream",
     "text": [
      " MSE CV Scores :\n",
      " [0.10044283 0.1185145  0.19804116 0.07471731 0.07119181 0.14775312\n",
      " 0.08491402 0.19847809 0.07398493 0.11066143]\n",
      " Mean MSE CV Scores : 0.11786991969050806\n",
      "\n",
      " MAE CV Scores :\n",
      " [0.22942851 0.26919007 0.29013705 0.23210905 0.20383414 0.25325439\n",
      " 0.23967337 0.26747798 0.20375577 0.25197856]\n",
      " Mean MAE CV Scores : 0.24408388893724528\n",
      "\n",
      " R2 CV Scores :\n",
      " [0.91501128 0.86207611 0.81266976 0.89889199 0.92334847 0.85870426\n",
      " 0.90305856 0.82588479 0.90813357 0.90276338]\n",
      " Mean R2 CV Scores : 0.8810542180002795\n"
     ]
    }
   ],
   "source": [
    "print(f' MSE CV Scores :\\n {mse_cv_scores}\\n Mean MSE CV Scores : {np.average(mse_cv_scores)}\\n')\n",
    "print(f' MAE CV Scores :\\n {mae_cv_scores}\\n Mean MAE CV Scores : {np.average(mae_cv_scores)}\\n')\n",
    "print(f' R2 CV Scores :\\n {r2_cv_scores}\\n Mean R2 CV Scores : {np.average(r2_cv_scores)}')"
   ]
  },
  {
   "cell_type": "markdown",
   "id": "cee847cf-7053-4398-be9e-67775e5099bb",
   "metadata": {},
   "source": [
    "# TODO\n",
    "\n",
    "2. Add line plot for comparison in test set data\n",
    "3. Add Model comparison chart plot\n",
    "4. Multiple CV comparison plot for each K\n",
    "\n",
    "Explain why we chose K to be that value, why did we choose hyper parameter, Feature adding and showing the performance for each training when you add one more feature. "
   ]
  },
  {
   "cell_type": "code",
   "execution_count": null,
   "id": "70a727e7-894b-493c-b037-3881141e7e07",
   "metadata": {},
   "outputs": [],
   "source": []
  }
 ],
 "metadata": {
  "kernelspec": {
   "display_name": "Python 3 (ipykernel)",
   "language": "python",
   "name": "python3"
  },
  "language_info": {
   "codemirror_mode": {
    "name": "ipython",
    "version": 3
   },
   "file_extension": ".py",
   "mimetype": "text/x-python",
   "name": "python",
   "nbconvert_exporter": "python",
   "pygments_lexer": "ipython3",
   "version": "3.9.12"
  }
 },
 "nbformat": 4,
 "nbformat_minor": 5
}
